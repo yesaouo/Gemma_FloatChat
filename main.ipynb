{
 "cells": [
  {
   "cell_type": "markdown",
   "metadata": {},
   "source": [
    "安裝必要套件"
   ]
  },
  {
   "cell_type": "code",
   "execution_count": null,
   "metadata": {},
   "outputs": [],
   "source": [
    "! pip install torch==2.1.2 torchvision==0.16.2 torchaudio==2.1.2 --index-url https://download.pytorch.org/whl/cu118\n",
    "! pip install immutabledict==4.1.0 sentencepiece==0.1.99 \n",
    "! pip install kagglehub\n",
    "! mkdir model"
   ]
  },
  {
   "cell_type": "markdown",
   "metadata": {},
   "source": [
    "引入必要套件"
   ]
  },
  {
   "cell_type": "code",
   "execution_count": 1,
   "metadata": {},
   "outputs": [],
   "source": [
    "import os, sys, torch, threading\n",
    "import tkinter as tk\n",
    "sys.path.append('gemma_pytorch')\n",
    "from gemma_pytorch.gemma.config import get_config_for_2b\n",
    "from gemma_pytorch.gemma.model import GemmaForCausalLM"
   ]
  },
  {
   "attachments": {
    "image-2.png": {
     "image/png": "[encoded data removed]"
    }
   },
   "cell_type": "markdown",
   "metadata": {},
   "source": [
    "檢查是否已將模型放入 'model' 資料夾\n",
    "\n",
    "1. 到此連結下載: https://www.kaggle.com/models/google/gemma/pyTorch/1.1-2b-it\n",
    "\n",
    "2. 選擇 2b-it 結尾的版本，前面數字越大版本越新 (需要登入 Kaggle 帳號才能下載)\n",
    "\n",
    "3. 將檔案解壓縮並貼到 'model' 資料夾內\n",
    "\n",
    "![image-2.png](attachment:image-2.png)"
   ]
  },
  {
   "cell_type": "code",
   "execution_count": 2,
   "metadata": {},
   "outputs": [],
   "source": [
    "# Ensure that the tokenizer is present\n",
    "tokenizer_path = os.path.join('model', 'tokenizer.model')\n",
    "assert os.path.isfile(tokenizer_path), 'Tokenizer not found!'\n",
    "# Ensure that the checkpoint is present\n",
    "ckpt_path = os.path.join('model', 'gemma-2b-it.ckpt')\n",
    "assert os.path.isfile(ckpt_path), 'PyTorch checkpoint not found!'"
   ]
  },
  {
   "cell_type": "markdown",
   "metadata": {},
   "source": [
    "定義 PyTorch 的運算設備與使用模型"
   ]
  },
  {
   "cell_type": "code",
   "execution_count": 3,
   "metadata": {},
   "outputs": [
    {
     "name": "stdout",
     "output_type": "stream",
     "text": [
      "PyTorch version: 2.2.1+cu118 -- using cuda\n"
     ]
    }
   ],
   "source": [
    "def define_device():\n",
    "    torch_version = torch.__version__\n",
    "    print(f\"PyTorch version: {torch_version}\", end=\" -- \")\n",
    "\n",
    "    # Check if MPS (Multi-Process Service) device is available on MacOS\n",
    "    if torch.backends.mps.is_available():\n",
    "        # If MPS is available, print a message indicating its usage\n",
    "        print(\"using MPS device on MacOS\")\n",
    "        # Define the device as MPS\n",
    "        defined_device = torch.device(\"mps\")\n",
    "    else:\n",
    "        # If MPS is not available, determine the device based on GPU availability\n",
    "        defined_device = torch.device(\"cuda\" if torch.cuda.is_available() else \"cpu\")\n",
    "        # Print a message indicating the selected device\n",
    "        print(f\"using {defined_device}\")\n",
    "\n",
    "    return defined_device\n",
    "\n",
    "def define_model():\n",
    "    model_config = get_config_for_2b()\n",
    "    model_config.tokenizer = tokenizer_path\n",
    "    model_config.quant = False\n",
    "    torch.set_default_dtype(model_config.get_dtype())\n",
    "    define_model = GemmaForCausalLM(model_config)\n",
    "    define_model.load_weights(ckpt_path)\n",
    "    define_model = define_model.to(device).eval()\n",
    "    return define_model\n",
    "\n",
    "device = define_device()\n",
    "model = define_model()"
   ]
  },
  {
   "cell_type": "markdown",
   "metadata": {},
   "source": [
    "定義對話模型的基本結構和功能"
   ]
  },
  {
   "cell_type": "code",
   "execution_count": 4,
   "metadata": {},
   "outputs": [],
   "source": [
    "class GemmaAI:\n",
    "    def __init__(self, model, device):\n",
    "        self.model = model\n",
    "        self.device = device\n",
    "        self.output_len = 20\n",
    "        self.RECORD = []\n",
    "        self.USER_CHAT_TEMPLATE = '<start_of_turn>user\\n{prompt}<end_of_turn>\\n'\n",
    "        self.MODEL_CHAT_TEMPLATE = '<start_of_turn>model\\n{prompt}<end_of_turn>\\n'\n",
    "\n",
    "    def generatePrompt(self):\n",
    "        prompt = ''\n",
    "        for i in range(len(self.RECORD)):\n",
    "            prompt += self.USER_CHAT_TEMPLATE.format(prompt=self.RECORD[i]) if i % 2 == 0 else self.MODEL_CHAT_TEMPLATE.format(prompt=self.RECORD[i])\n",
    "        prompt += '<start_of_turn>model\\n'\n",
    "        return prompt\n",
    "\n",
    "    def generateReply(self):\n",
    "        return self.model.generate(self.generatePrompt(), device=self.device, output_len=self.output_len)\n",
    "\n",
    "    def generateTranslate(self, prompt, output_len):\n",
    "        prompt = self.USER_CHAT_TEMPLATE.format(prompt=prompt) + '<start_of_turn>model\\n'\n",
    "        return self.model.generate(prompt, device=self.device, output_len=output_len)\n",
    "\n",
    "    def user_last_text(self):\n",
    "        return '' if len(self.RECORD) == 0 else self.RECORD[-2 + len(self.RECORD) % 2]\n",
    "\n",
    "    def model_last_text(self):\n",
    "        return '' if len(self.RECORD) < 1 or len(self.RECORD) % 2 != 0 else self.RECORD[-1]\n",
    "\n",
    "    def updateOutputLen(self, val):\n",
    "        self.output_len = int(val)\n",
    "\n",
    "AI = GemmaAI(model, device)"
   ]
  },
  {
   "cell_type": "markdown",
   "metadata": {},
   "source": [
    "建立 Tkinter 視窗"
   ]
  },
  {
   "cell_type": "code",
   "execution_count": 5,
   "metadata": {},
   "outputs": [],
   "source": [
    "def create_main_widget():\n",
    "    def disabled_button():\n",
    "        infoBtn['state'] = 'disabled'\n",
    "        sendBtn['state'] = 'disabled'\n",
    "        aiBtn['state'] = 'disabled'\n",
    "        chatBtn['state'] = 'disabled'\n",
    "    def normal_button():\n",
    "        infoBtn['state'] = 'normal'\n",
    "        sendBtn['state'] = 'normal'\n",
    "        aiBtn['state'] = 'normal'\n",
    "        chatBtn['state'] = 'normal' if len(AI.RECORD) > 1 else 'disabled'\n",
    "    def sendBtn_thread():\n",
    "        reply = AI.generateReply()\n",
    "        AI.RECORD.append(reply)\n",
    "        text.delete(1.0, tk.END)\n",
    "        text.insert(tk.END, reply)\n",
    "        normal_button()\n",
    "    def sendBtn_click():\n",
    "        disabled_button()\n",
    "        msg = entry.get()\n",
    "        AI.RECORD = [msg]\n",
    "        text.delete(1.0, tk.END)\n",
    "        text.insert(tk.END, '~正在努力思考中~')\n",
    "        thread = threading.Thread(target=sendBtn_thread)\n",
    "        thread.start()\n",
    "    def aiBtn_thread(prompt, output_len):\n",
    "        translation = AI.generateTranslate(prompt, output_len)\n",
    "        text.delete(1.0, tk.END)\n",
    "        text.insert(tk.END, translation)\n",
    "        normal_button()\n",
    "    def aiBtn_click():\n",
    "        disabled_button()\n",
    "        prompt = '翻譯成繁中\\n{}'.format(text.get(1.0, tk.END))\n",
    "        output_len = len(prompt)*2\n",
    "        text.delete(1.0, tk.END)\n",
    "        if output_len > 0:\n",
    "            text.insert(tk.END, '~正在努力翻譯中~')\n",
    "            thread = threading.Thread(target=aiBtn_thread, args=(prompt, output_len))\n",
    "            thread.start()\n",
    "        else:\n",
    "            text.insert(tk.END, '請在此處輸入需翻譯之內容')\n",
    "    def chatBtn_thread():\n",
    "        reply = AI.generateReply()\n",
    "        AI.RECORD.append(reply)\n",
    "        text.delete(1.0, tk.END)\n",
    "        text.insert(tk.END, reply)\n",
    "        normal_button()\n",
    "    def chatBtn_click():\n",
    "        disabled_button()\n",
    "        msg = entry.get()\n",
    "        AI.RECORD.append(msg)\n",
    "        text.delete(1.0, tk.END)\n",
    "        text.insert(tk.END, '~正在努力思考中~')\n",
    "        thread = threading.Thread(target=chatBtn_thread)\n",
    "        thread.start()\n",
    "    \n",
    "    for widget in root.winfo_children():\n",
    "        widget.destroy()\n",
    "    frame = tk.Frame(root)\n",
    "    frame.grid(row=0, column=0, sticky='nsew')\n",
    "    frame.grid_rowconfigure(1, weight=1)\n",
    "    frame.grid_columnconfigure(0, weight=1)\n",
    "\n",
    "    entryButtons = tk.Frame(frame)\n",
    "    entryButtons.grid(row=0, column=0, sticky='ew')\n",
    "    infoBtn = tk.Button(entryButtons, bitmap='info', command=lambda: create_info_widget())\n",
    "    infoBtn.pack(side=tk.LEFT)\n",
    "    entry = tk.Entry(entryButtons)\n",
    "    entry.pack(side=tk.LEFT, fill='x', expand=1)\n",
    "    sendBtn = tk.Button(entryButtons, text=\"送出\", command=lambda: sendBtn_click())\n",
    "    sendBtn.pack(side=tk.LEFT)\n",
    "\n",
    "    text = tk.Text(frame)\n",
    "    text.grid(row=1, column=0, sticky='nsew')\n",
    "\n",
    "    buttons = tk.Frame(frame)\n",
    "    buttons.grid(row=2, column=0, sticky='ew')\n",
    "    aiBtn = tk.Button(buttons, text=\"智能翻譯\", command=lambda: aiBtn_click())\n",
    "    aiBtn.pack(side=tk.LEFT, fill='x', expand=1)\n",
    "    chatBtn = tk.Button(buttons, text=\"繼續對話\", command=lambda: chatBtn_click())\n",
    "    chatBtn.pack(side=tk.LEFT, fill='x', expand=1)\n",
    "    entry.insert(tk.END, AI.user_last_text())\n",
    "    text.insert(tk.END, AI.model_last_text())\n",
    "    normal_button()\n",
    "\n",
    "def create_info_widget():\n",
    "    for widget in root.winfo_children():\n",
    "        widget.destroy()\n",
    "    frame = tk.Frame(root)\n",
    "    frame.pack()\n",
    "\n",
    "    label1 = tk.Label(frame, text='使用 {} 進行運算\\n'.format(str(device)))\n",
    "    label1.pack()\n",
    "\n",
    "    labels = tk.Frame(frame)\n",
    "    labels.pack()\n",
    "    label2 = tk.Label(labels, text='對話長度上限:')\n",
    "    label2.pack(side=tk.LEFT)\n",
    "    label3 = tk.Label(labels, textvariable=tk_output_len)\n",
    "    label3.pack(side=tk.LEFT)\n",
    "\n",
    "    scale_h = tk.Scale(frame, from_=20, to=2000, orient='horizontal', showvalue=False, variable=tk_output_len, command=AI.updateOutputLen)\n",
    "    scale_h.pack()\n",
    "\n",
    "    label4 = tk.Label(frame, text='上限越高輸出時間越長\\n', font=('Arial',8), fg='#f00')\n",
    "    label4.pack()\n",
    "\n",
    "    backBtn = tk.Button(frame, text=\"返回\", command=lambda: create_main_widget())\n",
    "    backBtn.pack()\n",
    "\n",
    "if __name__ == \"__main__\":\n",
    "    # 創建主視窗\n",
    "    root = tk.Tk()\n",
    "    root.title('FloatChat')\n",
    "    root.minsize(200, 160)\n",
    "    root.attributes('-alpha', 0.8)\n",
    "\n",
    "    # 獲取螢幕的寬度和高度\n",
    "    screen_width = root.winfo_screenwidth()\n",
    "    screen_height = root.winfo_screenheight()\n",
    "\n",
    "    # 設定視窗的大小和位置\n",
    "    root.geometry('200x160+{}+0'.format(screen_width - 200))\n",
    "\n",
    "    # 讓視窗保持在最上層\n",
    "    root.attributes('-topmost', True)\n",
    "\n",
    "    root.grid_rowconfigure(0, weight=1)\n",
    "    root.grid_columnconfigure(0, weight=1)\n",
    "\n",
    "    tk_output_len = tk.IntVar()\n",
    "    tk_output_len.set(AI.output_len)\n",
    "    create_main_widget()\n",
    "\n",
    "    # 開始主循環\n",
    "    root.mainloop()"
   ]
  }
 ],
 "metadata": {
  "kernelspec": {
   "display_name": "Python 3",
   "language": "python",
   "name": "python3"
  },
  "language_info": {
   "codemirror_mode": {
    "name": "ipython",
    "version": 3
   },
   "file_extension": ".py",
   "mimetype": "text/x-python",
   "name": "python",
   "nbconvert_exporter": "python",
   "pygments_lexer": "ipython3",
   "version": "3.9.18"
  }
 },
 "nbformat": 4,
 "nbformat_minor": 2
}
